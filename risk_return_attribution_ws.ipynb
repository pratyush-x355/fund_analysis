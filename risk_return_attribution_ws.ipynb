{
 "cells": [
  {
   "cell_type": "code",
   "execution_count": 68,
   "id": "96612f95",
   "metadata": {},
   "outputs": [],
   "source": [
    "import pandas as pd\n",
    "import numpy as np\n",
    "import statsmodels.api as sm\n",
    "from scipy.stats import mstats\n",
    "import os"
   ]
  },
  {
   "cell_type": "code",
   "execution_count": 69,
   "id": "5e07a240",
   "metadata": {},
   "outputs": [
    {
     "data": {
      "text/plain": [
       "\"\\n# Winsorize and standardize factors\\nfor col in ['Quality', 'Momentum', 'Value', 'Low_vol', 'Market']:\\n    df[col] = mstats.winsorize(df[col], limits=[0.05, 0.05])\\n    df[col] = (df[col] - df[col].mean()) / df[col].std()\\n\""
      ]
     },
     "execution_count": 69,
     "metadata": {},
     "output_type": "execute_result"
    }
   ],
   "source": [
    "# --- Step 1: Load Data ---\n",
    "file_path = os.getcwd() + '/data/Factor_data.xlsx'\n",
    "df = pd.read_excel(file_path, sheet_name='ws_fund', index_col=0)\n",
    "df = df.tail(36).copy()\n",
    "\n",
    "\"\"\"\n",
    "# Winsorize and standardize factors\n",
    "for col in ['Quality', 'Momentum', 'Value', 'Low_vol', 'Market']:\n",
    "    df[col] = mstats.winsorize(df[col], limits=[0.05, 0.05])\n",
    "    df[col] = (df[col] - df[col].mean()) / df[col].std()\n",
    "\"\"\""
   ]
  },
  {
   "cell_type": "code",
   "execution_count": 70,
   "id": "3d023322",
   "metadata": {},
   "outputs": [
    {
     "name": "stdout",
     "output_type": "stream",
     "text": [
      "Index(['Net Return', 'Benchmark Return', 'Quality', 'Momentum', 'Value',\n",
      "       'Low_vol', 'Market', 'Quality_mn', 'Momentum_mn', 'Value_mn',\n",
      "       'Low_vol_mn'],\n",
      "      dtype='object')\n"
     ]
    }
   ],
   "source": [
    "market_neutral_factors = {}\n",
    "\n",
    "for factor in ['Quality', 'Momentum', 'Value', 'Low_vol']:\n",
    "    # Prepare regression variables\n",
    "    x_market = sm.add_constant(df['Market'])\n",
    "    y_factor = df[factor]\n",
    "\n",
    "    \n",
    "    # Run regression\n",
    "    model = sm.OLS(y_factor, x_market).fit()\n",
    "    \n",
    "    # Get residuals (market-neutral factor returns)\n",
    "    market_neutral_factors[factor] = model.resid\n",
    "\n",
    "# Add market-neutral factors to DataFrame\n",
    "for factor in market_neutral_factors:\n",
    "    df[f'{factor}_mn'] = market_neutral_factors[factor]\n",
    "\n",
    "# Now use ['Quality_mn', 'Momentum_mn', 'Value_mn', 'Low_vol_mn'] as your factors in further analysis\n",
    "\n",
    "print(df.columns)"
   ]
  },
  {
   "cell_type": "code",
   "execution_count": 71,
   "id": "d1ff920b",
   "metadata": {},
   "outputs": [
    {
     "name": "stdout",
     "output_type": "stream",
     "text": [
      "                            OLS Regression Results                            \n",
      "==============================================================================\n",
      "Dep. Variable:             Net Return   R-squared:                       0.087\n",
      "Model:                            OLS   Adj. R-squared:                 -0.031\n",
      "Method:                 Least Squares   F-statistic:                    0.7391\n",
      "Date:                Mon, 15 Sep 2025   Prob (F-statistic):              0.573\n",
      "Time:                        00:28:51   Log-Likelihood:                 135.44\n",
      "No. Observations:                  36   AIC:                            -260.9\n",
      "Df Residuals:                      31   BIC:                            -253.0\n",
      "Df Model:                           4                                         \n",
      "Covariance Type:            nonrobust                                         \n",
      "==============================================================================\n",
      "                 coef    std err          t      P>|t|      [0.025      0.975]\n",
      "------------------------------------------------------------------------------\n",
      "const          0.0097      0.001      8.978      0.000       0.008       0.012\n",
      "Quality        0.0184      0.053      0.346      0.731      -0.090       0.127\n",
      "Momentum      -0.0252      0.037     -0.675      0.504      -0.101       0.051\n",
      "Value          0.0573      0.037      1.558      0.129      -0.018       0.132\n",
      "Low_vol       -0.0702      0.062     -1.129      0.267      -0.197       0.057\n",
      "==============================================================================\n",
      "Omnibus:                        5.213   Durbin-Watson:                   1.949\n",
      "Prob(Omnibus):                  0.074   Jarque-Bera (JB):                4.001\n",
      "Skew:                          -0.794   Prob(JB):                        0.135\n",
      "Kurtosis:                       3.379   Cond. No.                         69.4\n",
      "==============================================================================\n",
      "\n",
      "Notes:\n",
      "[1] Standard Errors assume that the covariance matrix of the errors is correctly specified.\n",
      "Quality     0.018433\n",
      "Momentum   -0.025159\n",
      "Value       0.057273\n",
      "Low_vol    -0.070201\n",
      "dtype: float64\n"
     ]
    }
   ],
   "source": [
    "# --- Step 3: Prepare Regression Variables ---\n",
    "# X = df[['Quality_mn', 'Momentum_mn', 'Value_mn', 'Low_vol_mn']] #, 'Market']]\n",
    "X = df[['Quality', 'Momentum', 'Value', 'Low_vol']] \n",
    "y = df['Net Return']  # or df['Benchmark Return']\n",
    "\n",
    "# Add constant for intercept\n",
    "X = sm.add_constant(X)\n",
    "\n",
    "# --- Step 4: Run Regression ---\n",
    "model = sm.OLS(y, X).fit()\n",
    "print(model.summary())\n",
    "\n",
    "# --- Step 5: Get Betas (Factor Sensitivities) ---\n",
    "betas = model.params.drop('const')\n",
    "print(betas)"
   ]
  },
  {
   "cell_type": "code",
   "execution_count": 72,
   "id": "10c434ca",
   "metadata": {},
   "outputs": [
    {
     "data": {
      "text/html": [
       "<div>\n",
       "<style scoped>\n",
       "    .dataframe tbody tr th:only-of-type {\n",
       "        vertical-align: middle;\n",
       "    }\n",
       "\n",
       "    .dataframe tbody tr th {\n",
       "        vertical-align: top;\n",
       "    }\n",
       "\n",
       "    .dataframe thead th {\n",
       "        text-align: right;\n",
       "    }\n",
       "</style>\n",
       "<table border=\"1\" class=\"dataframe\">\n",
       "  <thead>\n",
       "    <tr style=\"text-align: right;\">\n",
       "      <th></th>\n",
       "      <th>Quality</th>\n",
       "      <th>Momentum</th>\n",
       "      <th>Value</th>\n",
       "      <th>Low_vol</th>\n",
       "    </tr>\n",
       "  </thead>\n",
       "  <tbody>\n",
       "    <tr>\n",
       "      <th>Quality</th>\n",
       "      <td>0.002098</td>\n",
       "      <td>0.002402</td>\n",
       "      <td>0.002119</td>\n",
       "      <td>0.001406</td>\n",
       "    </tr>\n",
       "    <tr>\n",
       "      <th>Momentum</th>\n",
       "      <td>0.002402</td>\n",
       "      <td>0.003658</td>\n",
       "      <td>0.002803</td>\n",
       "      <td>0.001770</td>\n",
       "    </tr>\n",
       "    <tr>\n",
       "      <th>Value</th>\n",
       "      <td>0.002119</td>\n",
       "      <td>0.002803</td>\n",
       "      <td>0.003190</td>\n",
       "      <td>0.001678</td>\n",
       "    </tr>\n",
       "    <tr>\n",
       "      <th>Low_vol</th>\n",
       "      <td>0.001406</td>\n",
       "      <td>0.001770</td>\n",
       "      <td>0.001678</td>\n",
       "      <td>0.001283</td>\n",
       "    </tr>\n",
       "  </tbody>\n",
       "</table>\n",
       "</div>"
      ],
      "text/plain": [
       "           Quality  Momentum     Value   Low_vol\n",
       "Quality   0.002098  0.002402  0.002119  0.001406\n",
       "Momentum  0.002402  0.003658  0.002803  0.001770\n",
       "Value     0.002119  0.002803  0.003190  0.001678\n",
       "Low_vol   0.001406  0.001770  0.001678  0.001283"
      ]
     },
     "execution_count": 72,
     "metadata": {},
     "output_type": "execute_result"
    }
   ],
   "source": [
    "# --- Step 6: Calculate Factor Variances and Covariances ---\n",
    "#factor_returns = df[['Quality_mn', 'Momentum_mn', 'Value_mn', 'Low_vol_mn']] #, 'Market']]\n",
    "factor_returns = df[['Quality', 'Momentum', 'Value', 'Low_vol']] \n",
    "factor_cov = factor_returns.cov()\n",
    "factor_var = factor_returns.var()\n",
    "\n",
    "factor_cov"
   ]
  },
  {
   "cell_type": "code",
   "execution_count": 73,
   "id": "3264ed9d",
   "metadata": {},
   "outputs": [],
   "source": [
    "# --- Step 7: Calculate Risk Attribution ---\n",
    "# Portfolio variance explained by factors\n",
    "risk_contributions = {}\n",
    "for i, factor in enumerate(factor_returns.columns):\n",
    "    # Variance term\n",
    "    var_term = betas[factor]**2 * factor_var[factor]\n",
    "    # Covariance terms\n",
    "    cov_term = 0\n",
    "    for j, other_factor in enumerate(factor_returns.columns):\n",
    "        if i != j:\n",
    "            cov_term += betas[factor] * betas[other_factor] * factor_cov.loc[factor, other_factor]\n",
    "    # Total contribution\n",
    "    risk_contributions[factor] = var_term + cov_term\n",
    "\n",
    "# Residual (unexplained) risk\n",
    "residual_var = model.resid.var()"
   ]
  },
  {
   "cell_type": "code",
   "execution_count": 74,
   "id": "e29d9c94",
   "metadata": {},
   "outputs": [
    {
     "name": "stdout",
     "output_type": "stream",
     "text": [
      "\n",
      "Risk Attribution (Absolute):\n",
      "Quality: 0.000000 (0.05% of total risk)\n",
      "Momentum: 0.000000 (0.81% of total risk)\n",
      "Value: 0.000002 (5.38% of total risk)\n",
      "Low_vol: 0.000001 (2.48% of total risk)\n",
      "Residual: 0.000033 (91.29% of total risk)\n",
      "Total Portfolio Variance: 0.000036\n"
     ]
    }
   ],
   "source": [
    "# --- Step 8: Summarize Results ---\n",
    "total_risk = sum(risk_contributions.values()) + residual_var\n",
    "\n",
    "print(\"\\nRisk Attribution (Absolute):\")\n",
    "for factor, contribution in risk_contributions.items():\n",
    "    print(f\"{factor}: {contribution:.6f} ({contribution/total_risk:.2%} of total risk)\")\n",
    "print(f\"Residual: {residual_var:.6f} ({residual_var/total_risk:.2%} of total risk)\")\n",
    "print(f\"Total Portfolio Variance: {total_risk:.6f}\")"
   ]
  },
  {
   "cell_type": "code",
   "execution_count": 75,
   "id": "f876f824",
   "metadata": {},
   "outputs": [
    {
     "name": "stdout",
     "output_type": "stream",
     "text": [
      "Return Attribution (last 36 rows):\n",
      "Alpha: 0.973041%\n",
      "Quality: 0.021804%\n",
      "Momentum: -0.036270%\n",
      "Value: 0.117367%\n",
      "Low_vol: -0.077844%\n",
      "Residual: 0.000000%\n",
      "Total: 0.998097% (should match average Net Return: 0.998097%)\n"
     ]
    }
   ],
   "source": [
    "# --- Step 9: Attribution Calculation ---\n",
    "betas = model.params.drop('const')\n",
    "alpha = model.params['const']\n",
    "avg_factors = X.drop('const', axis=1).mean()\n",
    "\n",
    "# Factor contributions\n",
    "factor_contributions = betas * avg_factors\n",
    "\n",
    "# Alpha contribution\n",
    "alpha_contribution = alpha\n",
    "\n",
    "# Residual (unexplained) contribution\n",
    "residuals = model.resid\n",
    "residual_contribution = residuals.mean()\n",
    "\n",
    "# Total (should match average net return)\n",
    "total_contribution = factor_contributions.sum() + alpha_contribution + residual_contribution\n",
    "\n",
    "# --- Step 6: Display Results ---\n",
    "print(\"Return Attribution (last 36 rows):\")\n",
    "print(f\"Alpha: {alpha_contribution:.6%}\")\n",
    "for factor in betas.index:\n",
    "    print(f\"{factor}: {factor_contributions[factor]:.6%}\")\n",
    "print(f\"Residual: {residual_contribution:.6%}\")\n",
    "print(f\"Total: {total_contribution:.6%} (should match average Net Return: {y.mean():.6%})\")"
   ]
  },
  {
   "cell_type": "code",
   "execution_count": null,
   "id": "348f21f5",
   "metadata": {},
   "outputs": [],
   "source": []
  }
 ],
 "metadata": {
  "kernelspec": {
   "display_name": ".venv",
   "language": "python",
   "name": "python3"
  },
  "language_info": {
   "codemirror_mode": {
    "name": "ipython",
    "version": 3
   },
   "file_extension": ".py",
   "mimetype": "text/x-python",
   "name": "python",
   "nbconvert_exporter": "python",
   "pygments_lexer": "ipython3",
   "version": "3.13.0"
  }
 },
 "nbformat": 4,
 "nbformat_minor": 5
}
