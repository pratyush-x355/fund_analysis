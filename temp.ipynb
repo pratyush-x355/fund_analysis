{
 "cells": [
  {
   "cell_type": "code",
   "execution_count": 1,
   "id": "9056c9a9",
   "metadata": {},
   "outputs": [],
   "source": [
    "import pandas as pd\n",
    "import yfinance as yf\n",
    "from datetime import timedelta\n",
    "import importlib"
   ]
  },
  {
   "cell_type": "code",
   "execution_count": 4,
   "id": "ff5fa94e",
   "metadata": {},
   "outputs": [
    {
     "name": "stderr",
     "output_type": "stream",
     "text": [
      "/var/folders/2n/d3rj1hyj6dd70gqk03kgkrd00000gn/T/ipykernel_10738/2765000179.py:9: FutureWarning: YF.download() has changed argument auto_adjust default to True\n",
      "  data = yf.download(nifty50, start=start_date, end=end_date, interval='1mo')\n",
      "[*********************100%***********************]  1 of 1 completed\n"
     ]
    }
   ],
   "source": [
    "# Define ticker symbol\n",
    "nifty50 = 'NIFTYMIDCAP150.NS'\n",
    "\n",
    "# Define start and end dates in 'YYYY-MM-DD' format\n",
    "start_date = '2019-01-01'\n",
    "end_date = '2025-09-12'\n",
    "\n",
    "# Download monthly historical data for specified period\n",
    "data = yf.download(nifty50, start=start_date, end=end_date, interval='1mo')\n",
    "data.columns = data.columns.droplevel(level=1)\n",
    "data.reset_index(inplace=True)"
   ]
  },
  {
   "cell_type": "code",
   "execution_count": 6,
   "id": "086b95ab",
   "metadata": {},
   "outputs": [],
   "source": [
    "data.to_csv(\"mid150.csv\")"
   ]
  },
  {
   "cell_type": "code",
   "execution_count": 7,
   "id": "a33b45b9",
   "metadata": {},
   "outputs": [
    {
     "name": "stderr",
     "output_type": "stream",
     "text": [
      "/var/folders/2n/d3rj1hyj6dd70gqk03kgkrd00000gn/T/ipykernel_10738/3217504710.py:9: FutureWarning: YF.download() has changed argument auto_adjust default to True\n",
      "  data = yf.download(nifty50, start=start_date, end=end_date, interval='1mo')\n",
      "[*********************100%***********************]  1 of 1 completed\n"
     ]
    }
   ],
   "source": [
    "# Define ticker symbol\n",
    "nifty50 = 'SETFGOLD.NS'\n",
    "\n",
    "# Define start and end dates in 'YYYY-MM-DD' format\n",
    "start_date = '2019-01-01'\n",
    "end_date = '2025-09-12'\n",
    "\n",
    "# Download monthly historical data for specified period\n",
    "data = yf.download(nifty50, start=start_date, end=end_date, interval='1mo')\n",
    "data.columns = data.columns.droplevel(level=1)\n",
    "data.reset_index(inplace=True)"
   ]
  },
  {
   "cell_type": "code",
   "execution_count": 8,
   "id": "8eb2f5cb",
   "metadata": {},
   "outputs": [],
   "source": [
    "data.to_csv(\"gold.csv\")"
   ]
  },
  {
   "cell_type": "code",
   "execution_count": null,
   "id": "7502c2fe",
   "metadata": {},
   "outputs": [],
   "source": []
  }
 ],
 "metadata": {
  "kernelspec": {
   "display_name": ".venv",
   "language": "python",
   "name": "python3"
  },
  "language_info": {
   "codemirror_mode": {
    "name": "ipython",
    "version": 3
   },
   "file_extension": ".py",
   "mimetype": "text/x-python",
   "name": "python",
   "nbconvert_exporter": "python",
   "pygments_lexer": "ipython3",
   "version": "3.13.0"
  }
 },
 "nbformat": 4,
 "nbformat_minor": 5
}
