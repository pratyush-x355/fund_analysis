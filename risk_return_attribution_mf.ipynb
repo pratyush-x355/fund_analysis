{
 "cells": [
  {
   "cell_type": "code",
   "execution_count": 31,
   "id": "96612f95",
   "metadata": {},
   "outputs": [],
   "source": [
    "import pandas as pd\n",
    "import numpy as np\n",
    "import statsmodels.api as sm\n",
    "from scipy.stats import mstats\n",
    "import os"
   ]
  },
  {
   "cell_type": "code",
   "execution_count": 32,
   "id": "5e07a240",
   "metadata": {},
   "outputs": [
    {
     "data": {
      "text/plain": [
       "\"\\n# Winsorize and standardize factors\\nfor col in ['Quality', 'Momentum', 'Value', 'Low_vol', 'Market']:\\n    df[col] = mstats.winsorize(df[col], limits=[0.05, 0.05])\\n    df[col] = (df[col] - df[col].mean()) / df[col].std()\\n\""
      ]
     },
     "execution_count": 32,
     "metadata": {},
     "output_type": "execute_result"
    }
   ],
   "source": [
    "# --- Step 1: Load Data ---\n",
    "file_path = os.getcwd() + '/data/Factor_data.xlsx'\n",
    "df = pd.read_excel(file_path, sheet_name='mf', index_col=0)\n",
    "df = df.tail(24).copy()\n",
    "\n",
    "\"\"\"\n",
    "# Winsorize and standardize factors\n",
    "for col in ['Quality', 'Momentum', 'Value', 'Low_vol', 'Market']:\n",
    "    df[col] = mstats.winsorize(df[col], limits=[0.05, 0.05])\n",
    "    df[col] = (df[col] - df[col].mean()) / df[col].std()\n",
    "\"\"\""
   ]
  },
  {
   "cell_type": "code",
   "execution_count": null,
   "id": "3d023322",
   "metadata": {},
   "outputs": [
    {
     "name": "stdout",
     "output_type": "stream",
     "text": [
      "Index(['Net Return', 'Benchmark Return', 'Quality', 'Momentum', 'Value',\n",
      "       'Low_vol', 'Market', 'Quality_mn', 'Momentum_mn', 'Value_mn',\n",
      "       'Low_vol_mn'],\n",
      "      dtype='object')\n"
     ]
    }
   ],
   "source": [
    "market_neutral_factors = {}\n",
    "\n",
    "for factor in ['Quality', 'Momentum', 'Value', 'Low_vol']:\n",
    "    # Prepare regression variables\n",
    "    x_market = sm.add_constant(df['Market'])\n",
    "    y_factor = df[factor]\n",
    "    \n",
    "    # Run regression\n",
    "    model = sm.OLS(y_factor, x_market).fit()\n",
    "    \n",
    "    # Get residuals (market-neutral factor returns)\n",
    "    market_neutral_factors[factor] = model.resid\n",
    "\n",
    "# Add market-neutral factors to DataFrame\n",
    "for factor in market_neutral_factors:\n",
    "    df[f'{factor}_mn'] = market_neutral_factors[factor]\n",
    "\n",
    "# Now use ['Quality_mn', 'Momentum_mn', 'Value_mn', 'Low_vol_mn'] as your factors in further analysis\n",
    "\n",
    "print(df.columns)"
   ]
  },
  {
   "cell_type": "code",
   "execution_count": 34,
   "id": "d1ff920b",
   "metadata": {},
   "outputs": [
    {
     "name": "stdout",
     "output_type": "stream",
     "text": [
      "                            OLS Regression Results                            \n",
      "==============================================================================\n",
      "Dep. Variable:             Net Return   R-squared:                       0.306\n",
      "Model:                            OLS   Adj. R-squared:                  0.113\n",
      "Method:                 Least Squares   F-statistic:                     1.586\n",
      "Date:                Mon, 15 Sep 2025   Prob (F-statistic):              0.215\n",
      "Time:                        00:26:19   Log-Likelihood:                 39.265\n",
      "No. Observations:                  24   AIC:                            -66.53\n",
      "Df Residuals:                      18   BIC:                            -59.46\n",
      "Df Model:                           5                                         \n",
      "Covariance Type:            nonrobust                                         \n",
      "===============================================================================\n",
      "                  coef    std err          t      P>|t|      [0.025      0.975]\n",
      "-------------------------------------------------------------------------------\n",
      "const           0.0183      0.012      1.585      0.130      -0.006       0.043\n",
      "Quality_mn      0.6021      0.598      1.008      0.327      -0.653       1.857\n",
      "Momentum_mn     1.0932      0.633      1.727      0.101      -0.237       2.423\n",
      "Value_mn       -0.5895      0.480     -1.229      0.235      -1.597       0.418\n",
      "Low_vol_mn      0.5881      0.874      0.673      0.510      -1.248       2.424\n",
      "Market          0.4176      0.275      1.519      0.146      -0.160       0.995\n",
      "==============================================================================\n",
      "Omnibus:                        1.773   Durbin-Watson:                   1.963\n",
      "Prob(Omnibus):                  0.412   Jarque-Bera (JB):                1.514\n",
      "Skew:                          -0.572   Prob(JB):                        0.469\n",
      "Kurtosis:                       2.545   Cond. No.                         86.0\n",
      "==============================================================================\n",
      "\n",
      "Notes:\n",
      "[1] Standard Errors assume that the covariance matrix of the errors is correctly specified.\n",
      "Quality_mn     0.602098\n",
      "Momentum_mn    1.093153\n",
      "Value_mn      -0.589522\n",
      "Low_vol_mn     0.588096\n",
      "Market         0.417559\n",
      "dtype: float64\n"
     ]
    }
   ],
   "source": [
    "# --- Step 3: Prepare Regression Variables ---\n",
    "X = df[['Quality_mn', 'Momentum_mn', 'Value_mn', 'Low_vol_mn', 'Market']]\n",
    "# X = df[['Quality', 'Momentum', 'Value', 'Low_vol']]\n",
    "# X = df[['Quality', 'Momentum', 'Value', 'Low_vol', 'Market']]\n",
    "# X = df[['Benchmark Return']]\n",
    "y = df['Net Return']  # or df['Benchmark Return']\n",
    "\n",
    "# Add constant for intercept\n",
    "X = sm.add_constant(X)\n",
    "\n",
    "# --- Step 4: Run Regression ---\n",
    "model = sm.OLS(y, X).fit()\n",
    "print(model.summary())\n",
    "\n",
    "# --- Step 5: Get Betas (Factor Sensitivities) ---\n",
    "betas = model.params.drop('const')\n",
    "print(betas)"
   ]
  },
  {
   "cell_type": "code",
   "execution_count": 35,
   "id": "10c434ca",
   "metadata": {},
   "outputs": [
    {
     "data": {
      "text/html": [
       "<div>\n",
       "<style scoped>\n",
       "    .dataframe tbody tr th:only-of-type {\n",
       "        vertical-align: middle;\n",
       "    }\n",
       "\n",
       "    .dataframe tbody tr th {\n",
       "        vertical-align: top;\n",
       "    }\n",
       "\n",
       "    .dataframe thead th {\n",
       "        text-align: right;\n",
       "    }\n",
       "</style>\n",
       "<table border=\"1\" class=\"dataframe\">\n",
       "  <thead>\n",
       "    <tr style=\"text-align: right;\">\n",
       "      <th></th>\n",
       "      <th>Quality_mn</th>\n",
       "      <th>Momentum_mn</th>\n",
       "      <th>Value_mn</th>\n",
       "      <th>Low_vol_mn</th>\n",
       "      <th>Market</th>\n",
       "    </tr>\n",
       "  </thead>\n",
       "  <tbody>\n",
       "    <tr>\n",
       "      <th>Quality_mn</th>\n",
       "      <td>4.725405e-04</td>\n",
       "      <td>1.767373e-04</td>\n",
       "      <td>2.314677e-04</td>\n",
       "      <td>6.721852e-05</td>\n",
       "      <td>3.865416e-19</td>\n",
       "    </tr>\n",
       "    <tr>\n",
       "      <th>Momentum_mn</th>\n",
       "      <td>1.767373e-04</td>\n",
       "      <td>5.056763e-04</td>\n",
       "      <td>3.222719e-04</td>\n",
       "      <td>-5.608919e-05</td>\n",
       "      <td>4.572505e-19</td>\n",
       "    </tr>\n",
       "    <tr>\n",
       "      <th>Value_mn</th>\n",
       "      <td>2.314677e-04</td>\n",
       "      <td>3.222719e-04</td>\n",
       "      <td>8.200273e-04</td>\n",
       "      <td>4.973567e-05</td>\n",
       "      <td>6.693770e-19</td>\n",
       "    </tr>\n",
       "    <tr>\n",
       "      <th>Low_vol_mn</th>\n",
       "      <td>6.721852e-05</td>\n",
       "      <td>-5.608919e-05</td>\n",
       "      <td>4.973567e-05</td>\n",
       "      <td>1.994157e-04</td>\n",
       "      <td>5.468150e-19</td>\n",
       "    </tr>\n",
       "    <tr>\n",
       "      <th>Market</th>\n",
       "      <td>3.865416e-19</td>\n",
       "      <td>4.572505e-19</td>\n",
       "      <td>6.693770e-19</td>\n",
       "      <td>5.468150e-19</td>\n",
       "      <td>1.703626e-03</td>\n",
       "    </tr>\n",
       "  </tbody>\n",
       "</table>\n",
       "</div>"
      ],
      "text/plain": [
       "               Quality_mn   Momentum_mn      Value_mn    Low_vol_mn  \\\n",
       "Quality_mn   4.725405e-04  1.767373e-04  2.314677e-04  6.721852e-05   \n",
       "Momentum_mn  1.767373e-04  5.056763e-04  3.222719e-04 -5.608919e-05   \n",
       "Value_mn     2.314677e-04  3.222719e-04  8.200273e-04  4.973567e-05   \n",
       "Low_vol_mn   6.721852e-05 -5.608919e-05  4.973567e-05  1.994157e-04   \n",
       "Market       3.865416e-19  4.572505e-19  6.693770e-19  5.468150e-19   \n",
       "\n",
       "                   Market  \n",
       "Quality_mn   3.865416e-19  \n",
       "Momentum_mn  4.572505e-19  \n",
       "Value_mn     6.693770e-19  \n",
       "Low_vol_mn   5.468150e-19  \n",
       "Market       1.703626e-03  "
      ]
     },
     "execution_count": 35,
     "metadata": {},
     "output_type": "execute_result"
    }
   ],
   "source": [
    "# --- Step 6: Calculate Factor Variances and Covariances ---\n",
    "factor_returns = df[['Quality_mn', 'Momentum_mn', 'Value_mn', 'Low_vol_mn', 'Market']]\n",
    "#factor_returns = df[['Quality', 'Momentum', 'Value', 'Low_vol']] \n",
    "# factor_returns = df[['Quality', 'Momentum', 'Value', 'Low_vol', 'Market']]\n",
    "factor_cov = factor_returns.cov()\n",
    "factor_var = factor_returns.var()\n",
    "\n",
    "factor_cov"
   ]
  },
  {
   "cell_type": "code",
   "execution_count": 36,
   "id": "3264ed9d",
   "metadata": {},
   "outputs": [],
   "source": [
    "# --- Step 7: Calculate Risk Attribution ---\n",
    "# Portfolio variance explained by factors\n",
    "risk_contributions = {}\n",
    "for i, factor in enumerate(factor_returns.columns):\n",
    "    # Variance term\n",
    "    var_term = betas[factor]**2 * factor_var[factor]\n",
    "    # Covariance terms\n",
    "    cov_term = 0\n",
    "    for j, other_factor in enumerate(factor_returns.columns):\n",
    "        if i != j:\n",
    "            cov_term += betas[factor] * betas[other_factor] * factor_cov.loc[factor, other_factor]\n",
    "    # Total contribution\n",
    "    risk_contributions[factor] = var_term + cov_term\n",
    "\n",
    "# Residual (unexplained) risk\n",
    "residual_var = model.resid.var()"
   ]
  },
  {
   "cell_type": "code",
   "execution_count": 37,
   "id": "e29d9c94",
   "metadata": {},
   "outputs": [
    {
     "name": "stdout",
     "output_type": "stream",
     "text": [
      "\n",
      "Risk Attribution (Absolute):\n",
      "Quality_mn: 0.000229 (6.87% of total risk)\n",
      "Momentum_mn: 0.000477 (14.29% of total risk)\n",
      "Value_mn: -0.000022 (-0.66% of total risk)\n",
      "Low_vol_mn: 0.000039 (1.18% of total risk)\n",
      "Market: 0.000297 (8.90% of total risk)\n",
      "Residual: 0.002317 (69.42% of total risk)\n",
      "Total Portfolio Variance: 0.003338\n"
     ]
    }
   ],
   "source": [
    "# --- Step 8: Summarize Results ---\n",
    "total_risk = sum(risk_contributions.values()) + residual_var\n",
    "\n",
    "print(\"\\nRisk Attribution (Absolute):\")\n",
    "for factor, contribution in risk_contributions.items():\n",
    "    print(f\"{factor}: {contribution:.6f} ({contribution/total_risk:.2%} of total risk)\")\n",
    "print(f\"Residual: {residual_var:.6f} ({residual_var/total_risk:.2%} of total risk)\")\n",
    "print(f\"Total Portfolio Variance: {total_risk:.6f}\")"
   ]
  },
  {
   "cell_type": "code",
   "execution_count": 38,
   "id": "f876f824",
   "metadata": {},
   "outputs": [
    {
     "name": "stdout",
     "output_type": "stream",
     "text": [
      "Return Attribution (last 36 rows):\n",
      "Alpha: 1.829050%\n",
      "Quality_mn: -0.000000%\n",
      "Momentum_mn: -0.000000%\n",
      "Value_mn: 0.000000%\n",
      "Low_vol_mn: -0.000000%\n",
      "Market: 0.475522%\n",
      "Residual: -0.000000%\n",
      "Total: 2.304572% (should match average Net Return: 2.304572%)\n"
     ]
    }
   ],
   "source": [
    "# --- Step 9: Attribution Calculation ---\n",
    "betas = model.params.drop('const')\n",
    "alpha = model.params['const']\n",
    "avg_factors = X.drop('const', axis=1).mean()\n",
    "\n",
    "# Factor contributions\n",
    "factor_contributions = betas * avg_factors\n",
    "\n",
    "# Alpha contribution\n",
    "alpha_contribution = alpha\n",
    "\n",
    "# Residual (unexplained) contribution\n",
    "residuals = model.resid\n",
    "residual_contribution = residuals.mean()\n",
    "\n",
    "# Total (should match average net return)\n",
    "total_contribution = factor_contributions.sum() + alpha_contribution + residual_contribution\n",
    "\n",
    "# --- Step 6: Display Results ---\n",
    "print(\"Return Attribution (last 36 rows):\")\n",
    "print(f\"Alpha: {alpha_contribution:.6%}\")\n",
    "for factor in betas.index:\n",
    "    print(f\"{factor}: {factor_contributions[factor]:.6%}\")\n",
    "print(f\"Residual: {residual_contribution:.6%}\")\n",
    "print(f\"Total: {total_contribution:.6%} (should match average Net Return: {y.mean():.6%})\")"
   ]
  },
  {
   "cell_type": "code",
   "execution_count": null,
   "id": "348f21f5",
   "metadata": {},
   "outputs": [],
   "source": []
  },
  {
   "cell_type": "code",
   "execution_count": null,
   "id": "c86a7eb4",
   "metadata": {},
   "outputs": [],
   "source": []
  }
 ],
 "metadata": {
  "kernelspec": {
   "display_name": ".venv",
   "language": "python",
   "name": "python3"
  },
  "language_info": {
   "codemirror_mode": {
    "name": "ipython",
    "version": 3
   },
   "file_extension": ".py",
   "mimetype": "text/x-python",
   "name": "python",
   "nbconvert_exporter": "python",
   "pygments_lexer": "ipython3",
   "version": "3.13.0"
  }
 },
 "nbformat": 4,
 "nbformat_minor": 5
}
