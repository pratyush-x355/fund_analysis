{
 "cells": [
  {
   "cell_type": "code",
   "execution_count": 74,
   "id": "98e667af",
   "metadata": {},
   "outputs": [],
   "source": [
    "import pandas as pd\n",
    "import yfinance as yf\n",
    "from datetime import timedelta\n",
    "import importlib\n"
   ]
  },
  {
   "cell_type": "code",
   "execution_count": 54,
   "id": "0ac55683",
   "metadata": {},
   "outputs": [
    {
     "name": "stderr",
     "output_type": "stream",
     "text": [
      "[*********************100%***********************]  1 of 1 completed\n"
     ]
    }
   ],
   "source": [
    "# Define ticker symbol\n",
    "nifty50 = '^NSEI'\n",
    "\n",
    "# Define start and end dates in 'YYYY-MM-DD' format\n",
    "start_date = '2008-01-01'\n",
    "end_date = '2025-09-12'\n",
    "\n",
    "# Download monthly historical data for specified period\n",
    "data = yf.download(nifty50, start=start_date, end=end_date, interval='1mo')\n",
    "data.columns = data.columns.droplevel(level=1)\n",
    "data.reset_index(inplace=True)"
   ]
  },
  {
   "cell_type": "code",
   "execution_count": 65,
   "id": "dc8d4ee3",
   "metadata": {},
   "outputs": [
    {
     "data": {
      "text/html": [
       "<div>\n",
       "<style scoped>\n",
       "    .dataframe tbody tr th:only-of-type {\n",
       "        vertical-align: middle;\n",
       "    }\n",
       "\n",
       "    .dataframe tbody tr th {\n",
       "        vertical-align: top;\n",
       "    }\n",
       "\n",
       "    .dataframe thead th {\n",
       "        text-align: right;\n",
       "    }\n",
       "</style>\n",
       "<table border=\"1\" class=\"dataframe\">\n",
       "  <thead>\n",
       "    <tr style=\"text-align: right;\">\n",
       "      <th>Price</th>\n",
       "      <th>Date</th>\n",
       "      <th>Close</th>\n",
       "      <th>High</th>\n",
       "      <th>Low</th>\n",
       "      <th>Open</th>\n",
       "      <th>Volume</th>\n",
       "    </tr>\n",
       "  </thead>\n",
       "  <tbody>\n",
       "    <tr>\n",
       "      <th>0</th>\n",
       "      <td>2008-01-01</td>\n",
       "      <td>5137.450195</td>\n",
       "      <td>6357.100098</td>\n",
       "      <td>4448.500000</td>\n",
       "      <td>6136.750000</td>\n",
       "      <td>0</td>\n",
       "    </tr>\n",
       "    <tr>\n",
       "      <th>1</th>\n",
       "      <td>2008-02-01</td>\n",
       "      <td>5223.500000</td>\n",
       "      <td>5545.200195</td>\n",
       "      <td>4803.600098</td>\n",
       "      <td>5140.600098</td>\n",
       "      <td>0</td>\n",
       "    </tr>\n",
       "    <tr>\n",
       "      <th>2</th>\n",
       "      <td>2008-03-01</td>\n",
       "      <td>4734.500000</td>\n",
       "      <td>5222.799805</td>\n",
       "      <td>4468.549805</td>\n",
       "      <td>5222.799805</td>\n",
       "      <td>0</td>\n",
       "    </tr>\n",
       "    <tr>\n",
       "      <th>3</th>\n",
       "      <td>2008-04-01</td>\n",
       "      <td>5165.899902</td>\n",
       "      <td>5230.750000</td>\n",
       "      <td>4628.750000</td>\n",
       "      <td>4735.649902</td>\n",
       "      <td>0</td>\n",
       "    </tr>\n",
       "    <tr>\n",
       "      <th>4</th>\n",
       "      <td>2008-05-01</td>\n",
       "      <td>4870.100098</td>\n",
       "      <td>5298.850098</td>\n",
       "      <td>4801.899902</td>\n",
       "      <td>5265.299805</td>\n",
       "      <td>0</td>\n",
       "    </tr>\n",
       "  </tbody>\n",
       "</table>\n",
       "</div>"
      ],
      "text/plain": [
       "Price       Date        Close         High          Low         Open  Volume\n",
       "0     2008-01-01  5137.450195  6357.100098  4448.500000  6136.750000       0\n",
       "1     2008-02-01  5223.500000  5545.200195  4803.600098  5140.600098       0\n",
       "2     2008-03-01  4734.500000  5222.799805  4468.549805  5222.799805       0\n",
       "3     2008-04-01  5165.899902  5230.750000  4628.750000  4735.649902       0\n",
       "4     2008-05-01  4870.100098  5298.850098  4801.899902  5265.299805       0"
      ]
     },
     "execution_count": 65,
     "metadata": {},
     "output_type": "execute_result"
    }
   ],
   "source": [
    "data.head()"
   ]
  },
  {
   "cell_type": "code",
   "execution_count": 81,
   "id": "89b5e875",
   "metadata": {},
   "outputs": [
    {
     "name": "stdout",
     "output_type": "stream",
     "text": [
      "=== HMM Regime Detector - Monthly Data ===\n",
      "Data shape: (213, 6)\n",
      "Date range: 2008-01-01 00:00:00 to 2025-09-01 00:00:00\n",
      "\n",
      "Fitting HMM model with 4 regimes...\n",
      "HMM Model Summary:\n",
      "==================\n",
      "Number of states: 4\n",
      "Log-likelihood: -725.61\n",
      "\n",
      "Regime Characteristics:\n",
      "   Start Probabilities      Means    Variance  Volatility Rank\n",
      "0         0.000000e+00  26.392523  172.087953                2\n",
      "1         1.000000e+00  -2.136748   28.751950                1\n",
      "2        1.628302e-234  10.006802   20.400217                0\n",
      "3         0.000000e+00 -26.698126  178.042533                3\n",
      "\n",
      "Results:\n",
      "Total months: 209\n",
      "Regimes detected: 4 (as specified)\n",
      "\n",
      "Regime distribution:\n",
      "Regime 0: 15 months (7.2%)\n",
      "Regime 1: 86 months (41.1%)\n",
      "Regime 2: 94 months (45.0%)\n",
      "Regime 3: 14 months (6.7%)\n",
      "\n",
      "Regime Statistics Summary:\n",
      "Regime 0: Avg Return: 5.9480, Volatility: 7.3007, Count: 15 months\n",
      "Regime 1: Avg Return: -0.5041, Volatility: 4.5781, Count: 86 months\n",
      "Regime 2: Avg Return: 1.8047, Volatility: 3.6270, Count: 94 months\n",
      "Regime 3: Avg Return: -4.1292, Volatility: 13.3281, Count: 14 months\n",
      "\n",
      "Detailed Regime Statistics:\n",
      "Regime 0: Vol Rank 2, Time in regime: 7.2%\n",
      "Regime 1: Vol Rank 1, Time in regime: 41.1%\n",
      "Regime 2: Vol Rank 0, Time in regime: 45.0%\n",
      "Regime 3: Vol Rank 3, Time in regime: 6.7%\n",
      "\n",
      "Returning DataFrame with regime assignments and regime statistics\n"
     ]
    }
   ],
   "source": [
    "import help\n",
    "importlib.reload(help)\n",
    "from help import demo_hmm_detector_monthly_2\n",
    "\n",
    "result, regime_stats = demo_hmm_detector_monthly_2(data, price_column='Close', date_column='Date')\n",
    "\n",
    "state_names = {0: 'Risky Bullish',\n",
    "    1: 'Neutral',\n",
    "    2: 'Stable Bullish',\n",
    "    3: 'Volatile'}\n",
    "\n",
    "# Add regime names column\n",
    "result['regime_name'] = result['hidden_state'].map(state_names)\n",
    "result['Date'] = result['Date'] - timedelta(days=1)"
   ]
  },
  {
   "cell_type": "code",
   "execution_count": 82,
   "id": "fd352f27",
   "metadata": {},
   "outputs": [],
   "source": [
    "result.to_csv('regime.csv', index=False)"
   ]
  },
  {
   "cell_type": "code",
   "execution_count": null,
   "id": "a1650ac3",
   "metadata": {},
   "outputs": [],
   "source": []
  },
  {
   "cell_type": "code",
   "execution_count": 80,
   "id": "fa7ca854",
   "metadata": {},
   "outputs": [
    {
     "data": {
      "text/html": [
       "<div>\n",
       "<style scoped>\n",
       "    .dataframe tbody tr th:only-of-type {\n",
       "        vertical-align: middle;\n",
       "    }\n",
       "\n",
       "    .dataframe tbody tr th {\n",
       "        vertical-align: top;\n",
       "    }\n",
       "\n",
       "    .dataframe thead th {\n",
       "        text-align: right;\n",
       "    }\n",
       "</style>\n",
       "<table border=\"1\" class=\"dataframe\">\n",
       "  <thead>\n",
       "    <tr style=\"text-align: right;\">\n",
       "      <th>Price</th>\n",
       "      <th>Date</th>\n",
       "      <th>Close</th>\n",
       "      <th>hidden_state</th>\n",
       "      <th>returns</th>\n",
       "      <th>regime_name</th>\n",
       "    </tr>\n",
       "  </thead>\n",
       "  <tbody>\n",
       "    <tr>\n",
       "      <th>0</th>\n",
       "      <td>2008-04-27</td>\n",
       "      <td>4870.100098</td>\n",
       "      <td>1</td>\n",
       "      <td>-5.896483</td>\n",
       "      <td>Neutral</td>\n",
       "    </tr>\n",
       "    <tr>\n",
       "      <th>1</th>\n",
       "      <td>2008-05-28</td>\n",
       "      <td>4040.550049</td>\n",
       "      <td>3</td>\n",
       "      <td>-18.673366</td>\n",
       "      <td>Volatile</td>\n",
       "    </tr>\n",
       "    <tr>\n",
       "      <th>2</th>\n",
       "      <td>2008-06-27</td>\n",
       "      <td>4332.950195</td>\n",
       "      <td>3</td>\n",
       "      <td>6.986782</td>\n",
       "      <td>Volatile</td>\n",
       "    </tr>\n",
       "    <tr>\n",
       "      <th>3</th>\n",
       "      <td>2008-07-28</td>\n",
       "      <td>4360.000000</td>\n",
       "      <td>3</td>\n",
       "      <td>0.622341</td>\n",
       "      <td>Volatile</td>\n",
       "    </tr>\n",
       "    <tr>\n",
       "      <th>4</th>\n",
       "      <td>2008-08-28</td>\n",
       "      <td>3921.199951</td>\n",
       "      <td>3</td>\n",
       "      <td>-10.607434</td>\n",
       "      <td>Volatile</td>\n",
       "    </tr>\n",
       "  </tbody>\n",
       "</table>\n",
       "</div>"
      ],
      "text/plain": [
       "Price       Date        Close  hidden_state    returns regime_name\n",
       "0     2008-04-27  4870.100098             1  -5.896483     Neutral\n",
       "1     2008-05-28  4040.550049             3 -18.673366    Volatile\n",
       "2     2008-06-27  4332.950195             3   6.986782    Volatile\n",
       "3     2008-07-28  4360.000000             3   0.622341    Volatile\n",
       "4     2008-08-28  3921.199951             3 -10.607434    Volatile"
      ]
     },
     "execution_count": 80,
     "metadata": {},
     "output_type": "execute_result"
    }
   ],
   "source": [
    "result.head()"
   ]
  },
  {
   "cell_type": "code",
   "execution_count": null,
   "id": "864af6d4",
   "metadata": {},
   "outputs": [],
   "source": []
  }
 ],
 "metadata": {
  "kernelspec": {
   "display_name": ".venv",
   "language": "python",
   "name": "python3"
  },
  "language_info": {
   "codemirror_mode": {
    "name": "ipython",
    "version": 3
   },
   "file_extension": ".py",
   "mimetype": "text/x-python",
   "name": "python",
   "nbconvert_exporter": "python",
   "pygments_lexer": "ipython3",
   "version": "3.13.0"
  }
 },
 "nbformat": 4,
 "nbformat_minor": 5
}
