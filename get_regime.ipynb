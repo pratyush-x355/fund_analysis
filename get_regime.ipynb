{
 "cells": [
  {
   "cell_type": "code",
   "execution_count": 2,
   "id": "98e667af",
   "metadata": {},
   "outputs": [],
   "source": [
    "import pandas as pd\n",
    "import yfinance as yf\n",
    "from datetime import timedelta\n",
    "import importlib"
   ]
  },
  {
   "cell_type": "code",
   "execution_count": 3,
   "id": "0ac55683",
   "metadata": {},
   "outputs": [
    {
     "name": "stderr",
     "output_type": "stream",
     "text": [
      "/var/folders/vw/5r9h86rn0vj657bdg0b_rkbh0000gn/T/ipykernel_2281/1605990291.py:9: FutureWarning: YF.download() has changed argument auto_adjust default to True\n",
      "  data = yf.download(nifty50, start=start_date, end=end_date, interval='1mo')\n",
      "[*********************100%***********************]  1 of 1 completed\n"
     ]
    }
   ],
   "source": [
    "# Define ticker symbol\n",
    "nifty50 = '^NSEI'\n",
    "\n",
    "# Define start and end dates in 'YYYY-MM-DD' format\n",
    "start_date = '2007-01-01'\n",
    "end_date = '2025-09-12'\n",
    "\n",
    "# Download monthly historical data for specified period\n",
    "data = yf.download(nifty50, start=start_date, end=end_date, interval='1mo')\n",
    "data.columns = data.columns.droplevel(level=1)\n",
    "data.reset_index(inplace=True)"
   ]
  },
  {
   "cell_type": "code",
   "execution_count": 4,
   "id": "dc8d4ee3",
   "metadata": {},
   "outputs": [
    {
     "data": {
      "text/html": [
       "<div>\n",
       "<style scoped>\n",
       "    .dataframe tbody tr th:only-of-type {\n",
       "        vertical-align: middle;\n",
       "    }\n",
       "\n",
       "    .dataframe tbody tr th {\n",
       "        vertical-align: top;\n",
       "    }\n",
       "\n",
       "    .dataframe thead th {\n",
       "        text-align: right;\n",
       "    }\n",
       "</style>\n",
       "<table border=\"1\" class=\"dataframe\">\n",
       "  <thead>\n",
       "    <tr style=\"text-align: right;\">\n",
       "      <th>Price</th>\n",
       "      <th>Date</th>\n",
       "      <th>Close</th>\n",
       "      <th>High</th>\n",
       "      <th>Low</th>\n",
       "      <th>Open</th>\n",
       "      <th>Volume</th>\n",
       "    </tr>\n",
       "  </thead>\n",
       "  <tbody>\n",
       "    <tr>\n",
       "      <th>0</th>\n",
       "      <td>2007-09-01</td>\n",
       "      <td>5021.350098</td>\n",
       "      <td>5055.799805</td>\n",
       "      <td>4481.549805</td>\n",
       "      <td>4518.450195</td>\n",
       "      <td>0</td>\n",
       "    </tr>\n",
       "    <tr>\n",
       "      <th>1</th>\n",
       "      <td>2007-10-01</td>\n",
       "      <td>5900.649902</td>\n",
       "      <td>5976.000000</td>\n",
       "      <td>5000.950195</td>\n",
       "      <td>5021.500000</td>\n",
       "      <td>0</td>\n",
       "    </tr>\n",
       "    <tr>\n",
       "      <th>2</th>\n",
       "      <td>2007-11-01</td>\n",
       "      <td>5762.750000</td>\n",
       "      <td>6011.950195</td>\n",
       "      <td>5394.350098</td>\n",
       "      <td>5903.799805</td>\n",
       "      <td>0</td>\n",
       "    </tr>\n",
       "    <tr>\n",
       "      <th>3</th>\n",
       "      <td>2007-12-01</td>\n",
       "      <td>6138.600098</td>\n",
       "      <td>6185.399902</td>\n",
       "      <td>5676.700195</td>\n",
       "      <td>5765.450195</td>\n",
       "      <td>0</td>\n",
       "    </tr>\n",
       "    <tr>\n",
       "      <th>4</th>\n",
       "      <td>2008-01-01</td>\n",
       "      <td>5137.450195</td>\n",
       "      <td>6357.100098</td>\n",
       "      <td>4448.500000</td>\n",
       "      <td>6136.750000</td>\n",
       "      <td>0</td>\n",
       "    </tr>\n",
       "  </tbody>\n",
       "</table>\n",
       "</div>"
      ],
      "text/plain": [
       "Price       Date        Close         High          Low         Open  Volume\n",
       "0     2007-09-01  5021.350098  5055.799805  4481.549805  4518.450195       0\n",
       "1     2007-10-01  5900.649902  5976.000000  5000.950195  5021.500000       0\n",
       "2     2007-11-01  5762.750000  6011.950195  5394.350098  5903.799805       0\n",
       "3     2007-12-01  6138.600098  6185.399902  5676.700195  5765.450195       0\n",
       "4     2008-01-01  5137.450195  6357.100098  4448.500000  6136.750000       0"
      ]
     },
     "execution_count": 4,
     "metadata": {},
     "output_type": "execute_result"
    }
   ],
   "source": [
    "data.head()"
   ]
  },
  {
   "cell_type": "code",
   "execution_count": 6,
   "id": "89b5e875",
   "metadata": {},
   "outputs": [
    {
     "name": "stdout",
     "output_type": "stream",
     "text": [
      "=== HMM Regime Detector - Monthly Data ===\n",
      "Data shape: (217, 6)\n",
      "Date range: 2007-09-01 00:00:00 to 2025-09-01 00:00:00\n",
      "\n",
      "Fitting HMM model with 4 regimes...\n",
      "HMM Model Summary:\n",
      "==================\n",
      "Number of states: 4\n",
      "Log-likelihood: -704.34\n",
      "\n",
      "Regime Characteristics:\n",
      "   Start Probabilities      Means    Variance  Volatility Rank\n",
      "0        1.040031e-192  -3.039947   16.721221                1\n",
      "1        1.941414e-116   6.882615   13.012444                0\n",
      "2         4.240436e-24 -17.134555  188.998337                3\n",
      "3         1.000000e+00  16.802082  140.680893                2\n",
      "\n",
      "Results:\n",
      "Total months: 214\n",
      "Regimes detected: 4 (as specified)\n",
      "\n",
      "Regime distribution:\n",
      "Regime 0: 81 months (37.9%)\n",
      "Regime 1: 100 months (46.7%)\n",
      "Regime 2: 17 months (7.9%)\n",
      "Regime 3: 16 months (7.5%)\n",
      "\n",
      "Regime Statistics Summary:\n",
      "Regime 0: Avg Return: -0.6614, Volatility: 4.6275, Count: 81 months\n",
      "Regime 1: Avg Return: 1.9347, Volatility: 3.5077, Count: 100 months\n",
      "Regime 2: Avg Return: -5.6142, Volatility: 12.3350, Count: 17 months\n",
      "Regime 3: Avg Return: 6.4101, Volatility: 6.9409, Count: 16 months\n",
      "\n",
      "Detailed Regime Statistics:\n",
      "Regime 0: Vol Rank 1, Time in regime: 37.9%\n",
      "Regime 1: Vol Rank 0, Time in regime: 46.7%\n",
      "Regime 2: Vol Rank 3, Time in regime: 7.9%\n",
      "Regime 3: Vol Rank 2, Time in regime: 7.5%\n",
      "\n",
      "Returning DataFrame with regime assignments and regime statistics\n"
     ]
    }
   ],
   "source": [
    "import libraries.help as help\n",
    "importlib.reload(help)\n",
    "from libraries.help import demo_hmm_detector_monthly\n",
    "\n",
    "result, regime_stats = demo_hmm_detector_monthly(data, price_column='Close', date_column='Date')"
   ]
  },
  {
   "cell_type": "code",
   "execution_count": 7,
   "id": "fd352f27",
   "metadata": {},
   "outputs": [],
   "source": [
    "state_names = {3: 'Risky Bullish',\n",
    "    0: 'Neutral',\n",
    "    1: 'Stable Bullish',\n",
    "    2: 'Volatile'}\n",
    "\n",
    "# Add regime names column\n",
    "result['regime_name'] = result['hidden_state'].map(state_names)\n",
    "result['Date'] = result['Date'] - timedelta(days=1)\n",
    "result.to_csv('regime.csv', index=False)"
   ]
  },
  {
   "cell_type": "code",
   "execution_count": null,
   "id": "864af6d4",
   "metadata": {},
   "outputs": [],
   "source": []
  }
 ],
 "metadata": {
  "kernelspec": {
   "display_name": ".venv",
   "language": "python",
   "name": "python3"
  },
  "language_info": {
   "codemirror_mode": {
    "name": "ipython",
    "version": 3
   },
   "file_extension": ".py",
   "mimetype": "text/x-python",
   "name": "python",
   "nbconvert_exporter": "python",
   "pygments_lexer": "ipython3",
   "version": "3.11.9"
  }
 },
 "nbformat": 4,
 "nbformat_minor": 5
}
